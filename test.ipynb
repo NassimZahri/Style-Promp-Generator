{
 "cells": [
  {
   "cell_type": "markdown",
   "id": "9000552f",
   "metadata": {},
   "source": [
    "### Environement variables"
   ]
  },
  {
   "cell_type": "code",
   "execution_count": 1,
   "id": "77f13401",
   "metadata": {},
   "outputs": [
    {
     "data": {
      "text/plain": [
       "True"
      ]
     },
     "execution_count": 1,
     "metadata": {},
     "output_type": "execute_result"
    }
   ],
   "source": [
    "from dotenv import load_dotenv\n",
    "load_dotenv()"
   ]
  },
  {
   "cell_type": "markdown",
   "id": "0765e0ff",
   "metadata": {},
   "source": [
    "### Imports"
   ]
  },
  {
   "cell_type": "code",
   "execution_count": 2,
   "id": "e06c8ba0",
   "metadata": {},
   "outputs": [],
   "source": [
    "import os\n",
    "from groq import Groq\n",
    "import base64"
   ]
  },
  {
   "cell_type": "code",
   "execution_count": 3,
   "id": "c8e70431",
   "metadata": {},
   "outputs": [
    {
     "name": "stdout",
     "output_type": "stream",
     "text": [
      "None\n",
      "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\n"
     ]
    }
   ],
   "source": [
    "client = Groq(\n",
    "    api_key=os.getenv(\"GROQ_API_KEY\"))\n",
    "\n",
    "print(os.getenv(\"IMAGE_PATH\"))\n",
    "print(os.getenv(\"GROQ_API_KEY\"))\n"
   ]
  },
  {
   "cell_type": "code",
   "execution_count": 4,
   "id": "3b969533",
   "metadata": {},
   "outputs": [
    {
     "name": "stdout",
     "output_type": "stream",
     "text": [
      "The image depicts a serene rural landscape featuring two rustic wooden cabins situated on a grassy hillside, with a dense forest and a mountain range in the background. The scene exudes a sense of tranquility and seclusion.\n",
      "\n",
      "**Caption:** \"Nestled in the heart of nature, these charming cabins offer a peaceful retreat from the world. Surrounded by lush greenery and majestic mountains, they invite you to unwind and connect with the beauty of the great outdoors.\"\n"
     ]
    }
   ],
   "source": [
    "\n",
    "chat_completion = client.chat.completions.create(\n",
    "    messages=[\n",
    "        {\n",
    "            \"role\": \"user\",\n",
    "            \"content\": [\n",
    "                {\n",
    "                    \"type\": \"text\",\n",
    "                    \"text\": f\"Generate a caption for this image\",\n",
    "                },\n",
    "                {\n",
    "                    \"type\": \"image_url\",\n",
    "                    \"image_url\": {\n",
    "                        \"url\": \"https://images.pexels.com/photos/32058694/pexels-photo-32058694/free-photo-of-cozy-alpine-cabins-in-misty-mountain-landscape.jpeg?auto=compress&cs=tinysrgb&w=1260&h=750&dpr=1\"\n",
    "                    },\n",
    "                }\n",
    "            ]\n",
    "        }\n",
    "    ],\n",
    "    model=\"meta-llama/llama-4-scout-17b-16e-instruct\",\n",
    "    temperature=0.7\n",
    ")\n",
    "print(chat_completion.choices[0].message.content)"
   ]
  }
 ],
 "metadata": {
  "kernelspec": {
   "display_name": ".venv",
   "language": "python",
   "name": "python3"
  },
  "language_info": {
   "codemirror_mode": {
    "name": "ipython",
    "version": 3
   },
   "file_extension": ".py",
   "mimetype": "text/x-python",
   "name": "python",
   "nbconvert_exporter": "python",
   "pygments_lexer": "ipython3",
   "version": "3.11.4"
  }
 },
 "nbformat": 4,
 "nbformat_minor": 5
}
